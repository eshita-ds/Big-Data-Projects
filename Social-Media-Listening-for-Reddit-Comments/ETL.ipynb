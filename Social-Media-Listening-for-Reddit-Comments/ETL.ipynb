{
 "cells": [
  {
   "cell_type": "code",
   "execution_count": 1,
   "id": "51d41c90-ae22-4fae-983e-11b2ee22108e",
   "metadata": {},
   "outputs": [],
   "source": [
    "import os\n",
    "import datetime\n",
    "from kaggle.api.kaggle_api_extended import KaggleApi\n",
    "import zipfile\n",
    "\n",
    "def download_dataset(dataset_path):\n",
    "    # Initialize Kaggle API\n",
    "    api = KaggleApi()\n",
    "    api.authenticate()\n",
    "    \n",
    "    # Define the download path and filename\n",
    "    download_path = './'\n",
    "    zip_file = f'{dataset_path.split(\"/\")[-1]}.zip'\n",
    "\n",
    "    # Download dataset files to the current working directory\n",
    "    api.dataset_download_files(dataset_path, path=download_path, unzip=False)\n",
    "\n",
    "    # Define the CSV filename with today's date extension\n",
    "    today = datetime.datetime.now().strftime('%Y-%m-%d')\n",
    "    csv_filename = f'data_{today}.csv'\n",
    "\n",
    "    # Unzipping the file and rename the CSV with today's date\n",
    "    with zipfile.ZipFile(os.path.join(download_path, zip_file), 'r') as z:\n",
    "        # Extract all the contents into the directory\n",
    "        z.extractall(download_path)\n",
    "        # Assume the main file is named 'data.csv' and rename it\n",
    "        os.rename(os.path.join(download_path, 'data.csv'),\n",
    "                  os.path.join(download_path, csv_filename))\n",
    "\n",
    "    print(f'Dataset downloaded and saved as {csv_filename}')\n"
   ]
  },
  {
   "cell_type": "code",
   "execution_count": 2,
   "id": "86f1402f-5d46-4b8d-aac1-4be4655bc3c6",
   "metadata": {},
   "outputs": [
    {
     "name": "stdout",
     "output_type": "stream",
     "text": [
      "Dataset URL: https://www.kaggle.com/datasets/curiel/rtechnology-posts-and-comments\n"
     ]
    },
    {
     "ename": "FileExistsError",
     "evalue": "[WinError 183] Cannot create a file when that file already exists: './data.csv' -> './data_2024-04-24.csv'",
     "output_type": "error",
     "traceback": [
      "\u001b[1;31m---------------------------------------------------------------------------\u001b[0m",
      "\u001b[1;31mFileExistsError\u001b[0m                           Traceback (most recent call last)",
      "Cell \u001b[1;32mIn[2], line 1\u001b[0m\n\u001b[1;32m----> 1\u001b[0m download_dataset(\u001b[38;5;124m'\u001b[39m\u001b[38;5;124mcuriel/rtechnology-posts-and-comments\u001b[39m\u001b[38;5;124m'\u001b[39m)\n",
      "Cell \u001b[1;32mIn[1], line 27\u001b[0m, in \u001b[0;36mdownload_dataset\u001b[1;34m(dataset_path)\u001b[0m\n\u001b[0;32m     25\u001b[0m     z\u001b[38;5;241m.\u001b[39mextractall(download_path)\n\u001b[0;32m     26\u001b[0m     \u001b[38;5;66;03m# Assume the main file is named 'data.csv' and rename it\u001b[39;00m\n\u001b[1;32m---> 27\u001b[0m     os\u001b[38;5;241m.\u001b[39mrename(os\u001b[38;5;241m.\u001b[39mpath\u001b[38;5;241m.\u001b[39mjoin(download_path, \u001b[38;5;124m'\u001b[39m\u001b[38;5;124mdata.csv\u001b[39m\u001b[38;5;124m'\u001b[39m),\n\u001b[0;32m     28\u001b[0m               os\u001b[38;5;241m.\u001b[39mpath\u001b[38;5;241m.\u001b[39mjoin(download_path, csv_filename))\n\u001b[0;32m     30\u001b[0m \u001b[38;5;28mprint\u001b[39m(\u001b[38;5;124mf\u001b[39m\u001b[38;5;124m'\u001b[39m\u001b[38;5;124mDataset downloaded and saved as \u001b[39m\u001b[38;5;132;01m{\u001b[39;00mcsv_filename\u001b[38;5;132;01m}\u001b[39;00m\u001b[38;5;124m'\u001b[39m)\n",
      "\u001b[1;31mFileExistsError\u001b[0m: [WinError 183] Cannot create a file when that file already exists: './data.csv' -> './data_2024-04-24.csv'"
     ]
    }
   ],
   "source": [
    "download_dataset('curiel/rtechnology-posts-and-comments')"
   ]
  },
  {
   "cell_type": "code",
   "execution_count": null,
   "id": "b00f0e2a-eb2a-4a92-878e-9736c04d0f58",
   "metadata": {},
   "outputs": [],
   "source": [
    "from google.cloud import storage\n",
    "from google.oauth2 import service_account\n",
    "# Initialize Google Cloud Storage client\n",
    "def upload_to_gcs(bucket_name, blob_prefix, local_directory='./'):\n",
    "    \n",
    "\n",
    "    # Path to your service account key file\n",
    "    service_account_path = 'gc_key.json'\n",
    "\n",
    "    # Create a credentials object from the service account file\n",
    "    credentials = service_account.Credentials.from_service_account_file(service_account_path)\n",
    "\n",
    "    # Use these credentials to initialize a Google Cloud Storage client\n",
    "    storage_client = storage.Client(credentials=credentials)\n",
    "    #storage_client = storage.Client()\n",
    "    bucket = storage_client.bucket(bucket_name)\n",
    "\n",
    "    # Get today's date to define the CSV file\n",
    "    today = datetime.datetime.now().strftime('%Y-%m-%d')\n",
    "    local_file = f'data_{today}.csv'\n",
    "    local_file_path = os.path.join(local_directory, local_file)\n",
    "\n",
    "    # Define the blob (file) path in the bucket\n",
    "    blob_path = os.path.join(blob_prefix, local_file)\n",
    "    blob = bucket.blob(blob_path)\n",
    "\n",
    "    # Upload the file\n",
    "    blob.upload_from_filename(local_file_path)\n",
    "    print(f\"Uploaded {local_file} to {blob_path}\")\n",
    "\n",
    "    # Delete the local file after successful upload\n",
    "    #os.remove(local_file_path)\n",
    "    #print(f\"Deleted local file {local_file_path} after successful upload.\")\n",
    "    \n",
    "\n",
    "# Use the function\n",
    "bucket_name = 'technology_subreddit'\n",
    "blob_prefix = 'tech_data'\n",
    "\n",
    "# Call the function to upload the file\n",
    "upload_to_gcs(bucket_name, blob_prefix)\n"
   ]
  },
  {
   "cell_type": "code",
   "execution_count": null,
   "id": "47fafc8e-5f2a-4e65-96ee-4df8243d6807",
   "metadata": {},
   "outputs": [],
   "source": []
  },
  {
   "cell_type": "code",
   "execution_count": null,
   "id": "f6f0f9a1-93f6-4242-a4fa-6f3046a3a9b6",
   "metadata": {},
   "outputs": [],
   "source": []
  }
 ],
 "metadata": {
  "kernelspec": {
   "display_name": "Python 3 (ipykernel)",
   "language": "python",
   "name": "python3"
  },
  "language_info": {
   "codemirror_mode": {
    "name": "ipython",
    "version": 3
   },
   "file_extension": ".py",
   "mimetype": "text/x-python",
   "name": "python",
   "nbconvert_exporter": "python",
   "pygments_lexer": "ipython3",
   "version": "3.11.7"
  }
 },
 "nbformat": 4,
 "nbformat_minor": 5
}
