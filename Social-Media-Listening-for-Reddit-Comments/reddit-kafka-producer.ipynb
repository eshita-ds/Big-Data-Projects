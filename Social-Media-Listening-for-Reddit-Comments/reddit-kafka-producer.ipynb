{
 "cells": [
  {
   "cell_type": "code",
   "execution_count": 2,
   "id": "51ba35bc",
   "metadata": {},
   "outputs": [
    {
     "name": "stdout",
     "output_type": "stream",
     "text": [
      "Enter keywords separated by commas: apple,vision,pro\n"
     ]
    }
   ],
   "source": [
    "import praw\n",
    "from kafka import KafkaProducer\n",
    "from json import dumps, loads\n",
    "import json\n",
    "\n",
    "reddit = praw.Reddit(\n",
    "    client_id=\"VYwI_9Xqdf4-j6YbAcIXCA\",\n",
    "    client_secret=\"OvQUVB1QMNs0Xuo9tkOQ9BqVxH-Kmg\",\n",
    "    password=\"Billion@99\",\n",
    "    user_agent=\"my_bigdata\",\n",
    "    username=\"v1nomad\",\n",
    ")\n",
    "\n",
    "def fetch_data_from_reddit(subreddit_name, keywords):\n",
    "    subreddit = reddit.subreddit(subreddit_name)\n",
    "    for submission in subreddit.new(limit=None):\n",
    "        if all(keyword.lower() in submission.title.lower() for keyword in keywords):\n",
    "            post_id = submission.id\n",
    "            title = submission.title\n",
    "            url = submission.url\n",
    "            score = submission.score\n",
    "            upvotes = submission.ups\n",
    "            downvotes = submission.downs\n",
    "            num_comments = submission.num_comments\n",
    "            text = submission.selftext\n",
    "            author = submission.author.name if submission.author else None\n",
    "            author_post_karma = None\n",
    "            if submission.author:\n",
    "                author_info = reddit.redditor(submission.author.name)\n",
    "                author_post_karma = author_info.link_karma\n",
    "            tag = submission.link_flair_text if submission.link_flair_text else None\n",
    "            comments_data = []\n",
    "            for comment in submission.comments:\n",
    "                if isinstance(comment, praw.models.MoreComments):\n",
    "                    continue  # Skip MoreComments objects\n",
    "                comment_data = {\n",
    "                    'comment_id': comment.id,\n",
    "                    'author': comment.author.name if comment.author else None,\n",
    "                    'datetime': comment.created_utc,\n",
    "                    'text': comment.body\n",
    "                }\n",
    "                comments_data.append(comment_data)\n",
    "\n",
    "            yield {\n",
    "                'post_id': post_id,\n",
    "                'title': title,\n",
    "                'url': url,\n",
    "                'score': score,\n",
    "                'upvotes': upvotes,\n",
    "                'downvotes': downvotes,\n",
    "                'num_comments': num_comments,\n",
    "                'text': text,\n",
    "                'author': author,\n",
    "                'author_post_karma': author_post_karma,\n",
    "                'tag': tag,\n",
    "                'comments': comments_data\n",
    "            }\n",
    "\n",
    "def kafka_producer(subreddit_name, keywords):\n",
    "    producer = KafkaProducer(bootstrap_servers=['18.234.36.200:9092'])\n",
    "    for data in fetch_data_from_reddit(subreddit_name, keywords):\n",
    "        serialized_data = json.dumps(data).encode('utf-8')\n",
    "        producer.send('technot', serialized_data)\n",
    "    producer.flush()\n",
    "\n",
    "if __name__ == \"__main__\":\n",
    "    subreddit_name = 'technology'\n",
    "    keywords_input = input(\"Enter keywords separated by commas: \")\n",
    "    keywords = [keyword.strip() for keyword in keywords_input.split(\",\")]\n",
    "    kafka_producer(subreddit_name, keywords)\n"
   ]
  },
  {
   "cell_type": "code",
   "execution_count": null,
   "id": "3243f33b",
   "metadata": {},
   "outputs": [],
   "source": []
  }
 ],
 "metadata": {
  "kernelspec": {
   "display_name": "Python 3 (ipykernel)",
   "language": "python",
   "name": "python3"
  },
  "language_info": {
   "codemirror_mode": {
    "name": "ipython",
    "version": 3
   },
   "file_extension": ".py",
   "mimetype": "text/x-python",
   "name": "python",
   "nbconvert_exporter": "python",
   "pygments_lexer": "ipython3",
   "version": "3.10.12"
  }
 },
 "nbformat": 4,
 "nbformat_minor": 5
}
